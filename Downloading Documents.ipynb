{
 "cells": [
  {
   "cell_type": "code",
   "execution_count": 21,
   "id": "66cf56ce",
   "metadata": {},
   "outputs": [],
   "source": [
    "# importing the necessary packages\n",
    "import numpy as np\n",
    "import pandas as pd\n",
    "import os\n",
    "import pickle\n",
    "import requests\n",
    "import shutil\n",
    "from tqdm import tqdm\n",
    "\n",
    "\n",
    "# setting the main file path to where all files are\n",
    "os.chdir(\"C:\\\\Users\\\\SJNic\\\\Documents\\\\University\\\\Master\\\\Thesis\\\\Thesis Code\")\n",
    "\n",
    "# setting the directory for where to save the document files\n",
    "documents_dir = \"PDFs/Documents/\""
   ]
  },
  {
   "cell_type": "code",
   "execution_count": 43,
   "id": "b1f038d3",
   "metadata": {},
   "outputs": [],
   "source": [
    "# read the documentsInformation file\n",
    "with open(\"NewProcessingData/documentsInformation.txt\", \"rb\") as fp:   \n",
    "    documentsInformation = pickle.load(fp)"
   ]
  },
  {
   "cell_type": "markdown",
   "id": "7481fdab",
   "metadata": {},
   "source": [
    "# Download every doc in the list via the url"
   ]
  },
  {
   "cell_type": "code",
   "execution_count": 48,
   "id": "55b62d1e",
   "metadata": {},
   "outputs": [
    {
     "name": "stderr",
     "output_type": "stream",
     "text": [
      "100%|██████████| 52137/52137 [00:05<00:00, 9371.65it/s] \n"
     ]
    },
    {
     "data": {
      "text/plain": [
       "41465"
      ]
     },
     "execution_count": 48,
     "metadata": {},
     "output_type": "execute_result"
    }
   ],
   "source": [
    "unique_docs_dir = \"PDFs/UniqueDocuments\"\n",
    "\n",
    "downloaded_docs = [d[0:-4] for d in os.listdir(unique_docs_dir)]\n",
    "\n",
    "i=0\n",
    "for key in tqdm(documentsInformation):\n",
    "    #if i > 10:\n",
    "    #    break\n",
    "        \n",
    "    doc = documentsInformation[key]\n",
    "    \n",
    "    # get the unique version of this doc\n",
    "    uniqueDoc = documentsInformation[doc[\"unique id\"]]\n",
    "    uniqueDocID = uniqueDoc[\"document id\"]\n",
    "    #print(uniqueDocID)\n",
    "    \n",
    "    try: \n",
    "        #s = \"/\" + uniqueDocID\n",
    "        # check whether this doc has already been downloaded\n",
    "        if uniqueDocID not in downloaded_docs:\n",
    "            i+=1\n",
    "    except:\n",
    "        print(uniqueDocID)\n",
    "i"
   ]
  },
  {
   "cell_type": "code",
   "execution_count": 54,
   "id": "e34ba838",
   "metadata": {},
   "outputs": [
    {
     "name": "stderr",
     "output_type": "stream",
     "text": [
      "100%|██████████| 52137/52137 [00:00<00:00, 743288.42it/s]\n"
     ]
    }
   ],
   "source": [
    "for key in tqdm(documentsInformation):\n",
    "    doc = documentsInformation[key]\n",
    "    if type(doc[\"unique id\"]) != str:\n",
    "        \n",
    "        print(type(doc[\"unique id\"]))\n",
    "    if str(type(doc[\"unique id\"])) == \"<class 'dict'>\":\n",
    "        print(doc[\"unique id\"])"
   ]
  },
  {
   "cell_type": "code",
   "execution_count": 55,
   "id": "72ef4131",
   "metadata": {},
   "outputs": [
    {
     "name": "stderr",
     "output_type": "stream",
     "text": [
      "100%|██████████| 52137/52137 [4:48:24<00:00,  3.01it/s]   \n"
     ]
    }
   ],
   "source": [
    "unique_docs_dir = \"PDFs/UniqueDocuments\"\n",
    "\n",
    "downloaded_docs = [d[0:-4] for d in os.listdir(unique_docs_dir)]\n",
    "\n",
    "for key in tqdm(documentsInformation):\n",
    "    doc = documentsInformation[key]\n",
    "    \n",
    "    # get the unique version of this doc\n",
    "    uniqueDoc = documentsInformation[doc[\"unique id\"]]\n",
    "    uniqueDocID = uniqueDoc[\"document id\"]\n",
    "    #print(uniqueDocID)\n",
    "    \n",
    "    # somtimes the reference is \n",
    "    if str(type(uniqueDocID))  == \"<class 'dict'>\":\n",
    "        uniqueDocID = uniqueDocID[\"id\"]\n",
    "    \n",
    "    # check whether this doc has already been downloaded\n",
    "    if uniqueDocID not in downloaded_docs:\n",
    "        downloaded_docs.append(uniqueDoc)\n",
    "        \n",
    "        # get the download url\n",
    "        url = uniqueDoc[\"publicdownloadurl\"]\n",
    "        \n",
    "        # download the doc and save it\n",
    "        r = requests.get(url)\n",
    "        open(unique_docs_dir + \"/\" + uniqueDocID + \".pdf\", 'wb').write(r.content)\n",
    "        \n",
    "    #break "
   ]
  },
  {
   "cell_type": "code",
   "execution_count": null,
   "id": "f871aba7",
   "metadata": {},
   "outputs": [],
   "source": []
  },
  {
   "cell_type": "code",
   "execution_count": null,
   "id": "840f1238",
   "metadata": {},
   "outputs": [],
   "source": []
  },
  {
   "cell_type": "code",
   "execution_count": null,
   "id": "6d67c468",
   "metadata": {},
   "outputs": [],
   "source": [
    "\n",
    "for docId in documentsInformation.keys():\n",
    "    doc = documentsInformation[docId]\n",
    "    url = doc[\"publicdownloadurl\"]\n",
    "\n",
    "    r = requests.get(url)\n",
    "    open(documents_dir + docId + \".pdf\", 'wb').write(r.content)\n"
   ]
  },
  {
   "cell_type": "code",
   "execution_count": null,
   "id": "9c41d82f",
   "metadata": {},
   "outputs": [],
   "source": []
  },
  {
   "cell_type": "markdown",
   "id": "2776d6cf",
   "metadata": {},
   "source": [
    "# checking if we have all unique IDS"
   ]
  },
  {
   "cell_type": "code",
   "execution_count": 10,
   "id": "c187463a",
   "metadata": {},
   "outputs": [],
   "source": [
    "with open(\"NewProcessingData/unique_IDs.txt\", \"rb\") as fp:\n",
    "    unique_IDs = pickle.load(fp)"
   ]
  },
  {
   "cell_type": "code",
   "execution_count": 11,
   "id": "48782ef5",
   "metadata": {},
   "outputs": [],
   "source": [
    "downloaded_files = os.listdir(documents_dir)\n",
    "\n",
    "not_downloaded_files = []\n",
    "\n",
    "for doc in unique_IDs:\n",
    "    # if this document is not in downloaded files then add it to the list of documents to download\n",
    "    if doc not in downloaded_files:\n",
    "        not_downloaded_files.append(doc)"
   ]
  },
  {
   "cell_type": "code",
   "execution_count": 12,
   "id": "1db66d22",
   "metadata": {},
   "outputs": [
    {
     "data": {
      "text/plain": [
       "48935"
      ]
     },
     "execution_count": 12,
     "metadata": {},
     "output_type": "execute_result"
    }
   ],
   "source": [
    "len(not_downloaded_files)"
   ]
  },
  {
   "cell_type": "code",
   "execution_count": 8,
   "id": "a35fd309",
   "metadata": {},
   "outputs": [
    {
     "data": {
      "text/plain": [
       "49145"
      ]
     },
     "execution_count": 8,
     "metadata": {},
     "output_type": "execute_result"
    }
   ],
   "source": [
    "len(unique_IDs)"
   ]
  },
  {
   "cell_type": "code",
   "execution_count": null,
   "id": "2d30040e",
   "metadata": {},
   "outputs": [],
   "source": []
  },
  {
   "cell_type": "code",
   "execution_count": null,
   "id": "3bd3bd40",
   "metadata": {},
   "outputs": [],
   "source": []
  },
  {
   "cell_type": "code",
   "execution_count": null,
   "id": "31d03529",
   "metadata": {},
   "outputs": [],
   "source": []
  },
  {
   "cell_type": "code",
   "execution_count": null,
   "id": "956b9be5",
   "metadata": {},
   "outputs": [],
   "source": []
  },
  {
   "cell_type": "code",
   "execution_count": null,
   "id": "23f10067",
   "metadata": {},
   "outputs": [],
   "source": []
  },
  {
   "cell_type": "code",
   "execution_count": null,
   "id": "43642956",
   "metadata": {},
   "outputs": [],
   "source": []
  },
  {
   "cell_type": "markdown",
   "id": "27f43fa2",
   "metadata": {},
   "source": [
    "# Duplicate detection"
   ]
  },
  {
   "cell_type": "code",
   "execution_count": 35,
   "id": "7cae8324",
   "metadata": {},
   "outputs": [
    {
     "name": "stdout",
     "output_type": "stream",
     "text": [
      "# of duplicates =  5525\n"
     ]
    }
   ],
   "source": [
    "# this method only counts the number of duplicates based on a matching title\n",
    "filenames = []\n",
    "count = 0\n",
    "for key in documentsInformation:\n",
    "    duplicate = False\n",
    "    doc = documentsInformation[key]\n",
    "    filename = doc[\"filename\"]\n",
    "    # check if this filename has already been found\n",
    "    for i in range(len(filenames)):\n",
    "        if filename == filenames[i]:\n",
    "            count += 1\n",
    "            duplicate = True\n",
    "            break\n",
    "    if not duplicate:\n",
    "        filenames.append(filename)\n",
    "print(\"# of duplicates = \", count)"
   ]
  },
  {
   "cell_type": "code",
   "execution_count": 37,
   "id": "48ee295f",
   "metadata": {},
   "outputs": [
    {
     "name": "stdout",
     "output_type": "stream",
     "text": [
      "# of duplicate file sizes =  5533\n"
     ]
    }
   ],
   "source": [
    "# Now trying the same method but for the same file sizes\n",
    "fileSizes = []\n",
    "count = 0\n",
    "for key in documentsInformation:\n",
    "    duplicate = False\n",
    "    doc = documentsInformation[key]\n",
    "    fileSize = doc[\"filesize\"]\n",
    "    # check if this filename has already been found\n",
    "    for i in range(len(fileSizes)):\n",
    "        if fileSize == fileSizes[i]:\n",
    "            count += 1\n",
    "            duplicate = True\n",
    "            break\n",
    "    if not duplicate:\n",
    "        fileSizes.append(fileSize)\n",
    "print(\"# of duplicate file sizes = \", count)"
   ]
  },
  {
   "cell_type": "markdown",
   "id": "4e780a27",
   "metadata": {},
   "source": [
    "# Move duplicate pdfs to a seperate folder"
   ]
  },
  {
   "cell_type": "code",
   "execution_count": 7,
   "id": "1cc19070",
   "metadata": {},
   "outputs": [],
   "source": [
    "with open(\"nonDuplicateDocumentsInformation.txt\", \"rb\") as fp:   \n",
    "    nonDuplicateDocumentsInformation = pickle.load(fp)"
   ]
  },
  {
   "cell_type": "code",
   "execution_count": 14,
   "id": "dc773621",
   "metadata": {},
   "outputs": [
    {
     "data": {
      "text/plain": [
       "5525"
      ]
     },
     "execution_count": 14,
     "metadata": {},
     "output_type": "execute_result"
    }
   ],
   "source": [
    "duplicateIDS = []\n",
    "setValues = set(nonDuplicateIDS.values())\n",
    "\n",
    "# first retrieve all ids of duplicate documents\n",
    "for key in documentsInformation:\n",
    "    if key not in setValues:\n",
    "        duplicateIDS.append(key)\n",
    "len(duplicateIDS)"
   ]
  },
  {
   "cell_type": "code",
   "execution_count": 8,
   "id": "ac18393f",
   "metadata": {},
   "outputs": [],
   "source": [
    "# now moving the duplicate documents\n",
    "# folder to move the duplicate files to\n",
    "duplicate_documents_dir = \"Data/DuplicateDocuments/\"\n",
    "for id in duplicateIDS:\n",
    "    os.rename(documents_dir + id + \".pdf\", duplicate_documents_dir + id + \".pdf\")"
   ]
  },
  {
   "cell_type": "code",
   "execution_count": 18,
   "id": "06e23984",
   "metadata": {},
   "outputs": [
    {
     "name": "stdout",
     "output_type": "stream",
     "text": [
      "23704\n",
      "5525\n",
      "29229\n"
     ]
    }
   ],
   "source": [
    "print(len(nonDuplicateDocumentsInformation))\n",
    "print(len(duplicateIDS))\n",
    "print(len(documentsInformation))"
   ]
  },
  {
   "cell_type": "markdown",
   "id": "d23dac1d",
   "metadata": {},
   "source": [
    "# Reduce Data dimensionality"
   ]
  },
  {
   "cell_type": "code",
   "execution_count": 17,
   "id": "0f04ea76",
   "metadata": {},
   "outputs": [
    {
     "name": "stdout",
     "output_type": "stream",
     "text": [
      "Collecting pdfplumber\n",
      "  Downloading pdfplumber-0.5.28.tar.gz (45 kB)\n",
      "Collecting pdfminer.six==20200517\n",
      "  Downloading pdfminer.six-20200517-py3-none-any.whl (5.6 MB)\n",
      "Requirement already satisfied: Pillow>=7.0.0 in c:\\users\\sjnic\\documents\\programming\\anaconda\\envs\\python38\\lib\\site-packages (from pdfplumber) (8.2.0)\n",
      "Collecting Wand\n",
      "  Downloading Wand-0.6.6-py2.py3-none-any.whl (138 kB)\n",
      "Collecting sortedcontainers\n",
      "  Downloading sortedcontainers-2.3.0-py2.py3-none-any.whl (29 kB)\n",
      "Requirement already satisfied: chardet in c:\\users\\sjnic\\documents\\programming\\anaconda\\envs\\python38\\lib\\site-packages (from pdfminer.six==20200517->pdfplumber) (4.0.0)\n",
      "Collecting pycryptodome\n",
      "  Downloading pycryptodome-3.10.1-cp35-abi3-win_amd64.whl (1.6 MB)\n",
      "Building wheels for collected packages: pdfplumber\n",
      "  Building wheel for pdfplumber (setup.py): started\n",
      "  Building wheel for pdfplumber (setup.py): finished with status 'done'\n",
      "  Created wheel for pdfplumber: filename=pdfplumber-0.5.28-py3-none-any.whl size=32219 sha256=9cee7d80246c906e584a19ef02432564c9b8119a97ab018ca324bd1de7c0c2b7\n",
      "  Stored in directory: c:\\users\\sjnic\\appdata\\local\\pip\\cache\\wheels\\36\\61\\6d\\5fdf7f85a9598d42f094b4099be9a3dd9a887b25ca9b5a1bf4\n",
      "Successfully built pdfplumber\n",
      "Installing collected packages: sortedcontainers, pycryptodome, Wand, pdfminer.six, pdfplumber\n",
      "Successfully installed Wand-0.6.6 pdfminer.six-20200517 pdfplumber-0.5.28 pycryptodome-3.10.1 sortedcontainers-2.3.0\n"
     ]
    }
   ],
   "source": []
  },
  {
   "cell_type": "code",
   "execution_count": 3,
   "id": "2eff07f5",
   "metadata": {},
   "outputs": [],
   "source": [
    "import pdfplumber\n",
    "from multiprocessing.dummy import Pool as ThreadPool\n",
    "\n",
    "\n",
    "texts_dir = \"Data/DocumentTexts/\"\n",
    "# setting the directory for where to save the document files\n",
    "documents_dir = \"Data/Documents/\"\n",
    "\n",
    "with open(\"nonDuplicateDocumentsInformation.txt\", \"rb\") as fp:   \n",
    "    nonDuplicateDocumentsInformation = pickle.load(fp)"
   ]
  },
  {
   "cell_type": "code",
   "execution_count": 3,
   "id": "95ce137d",
   "metadata": {},
   "outputs": [
    {
     "data": {
      "text/plain": [
       "{'document id': '72cc4b22-0de8-4a83-ae9c-b4961b74050e',\n",
       " 'displayname': 'Bijlage 1 Verzoek van de fracties van VVD, CDA en D66 tot het mogen houden van een debat over het feit dat het College de NOUW 3 niet heeft opgenomen in het Actieplan Luchtkwaliteit',\n",
       " 'filename': 'Bijlage 1 Verzoek van de fracties van VVD, CDA en D66 tot het mogen houden van een debat over het feit dat het College de NOUW 3 niet heeft opgenomen in het Actieplan Luchtkwaliteit.pdf',\n",
       " 'filesize': '131576',\n",
       " 'publicdownloadurl': 'https://api1.ibabs.eu/publicdownload.aspx?site=Utrecht&id=72cc4b22-0de8-4a83-ae9c-b4961b74050e'}"
      ]
     },
     "execution_count": 3,
     "metadata": {},
     "output_type": "execute_result"
    }
   ],
   "source": [
    "key = \"72cc4b22-0de8-4a83-ae9c-b4961b74050e\"\n",
    "test = nonDuplicateDocumentsInformation[key]\n",
    "test"
   ]
  },
  {
   "cell_type": "code",
   "execution_count": 4,
   "id": "9f5bcfd9",
   "metadata": {},
   "outputs": [],
   "source": [
    "def save_text_from_pdf(key):\n",
    "    file_loc = documents_dir + key + \".pdf\"\n",
    "    text = \"\"\n",
    "    with pdfplumber.open(file_loc) as pdf:\n",
    "        \n",
    "        for page in pdf.pages:\n",
    "            try:\n",
    "                text = text + page.extract_text()\n",
    "            except:\n",
    "                continue\n",
    "                \n",
    "\n",
    "    with open(texts_dir + key + \".txt\", \"wb\") as fp:\n",
    "            pickle.dump(text, fp)  "
   ]
  },
  {
   "cell_type": "code",
   "execution_count": 5,
   "id": "26f84871",
   "metadata": {},
   "outputs": [
    {
     "ename": "PSEOF",
     "evalue": "Unexpected EOF",
     "output_type": "error",
     "traceback": [
      "\u001b[1;31m---------------------------------------------------------------------------\u001b[0m",
      "\u001b[1;31mPSEOF\u001b[0m                                     Traceback (most recent call last)",
      "\u001b[1;32m<ipython-input-5-f7df09b5dcdd>\u001b[0m in \u001b[0;36m<module>\u001b[1;34m\u001b[0m\n\u001b[0;32m      1\u001b[0m \u001b[1;32mfor\u001b[0m \u001b[0mkey\u001b[0m \u001b[1;32min\u001b[0m \u001b[0mnonDuplicateDocumentsInformation\u001b[0m\u001b[1;33m.\u001b[0m\u001b[0mkeys\u001b[0m\u001b[1;33m(\u001b[0m\u001b[1;33m)\u001b[0m\u001b[1;33m:\u001b[0m\u001b[1;33m\u001b[0m\u001b[1;33m\u001b[0m\u001b[0m\n\u001b[1;32m----> 2\u001b[1;33m     \u001b[0msave_text_from_pdf\u001b[0m\u001b[1;33m(\u001b[0m\u001b[0mkey\u001b[0m\u001b[1;33m)\u001b[0m\u001b[1;33m\u001b[0m\u001b[1;33m\u001b[0m\u001b[0m\n\u001b[0m",
      "\u001b[1;32m<ipython-input-4-817a452d92fc>\u001b[0m in \u001b[0;36msave_text_from_pdf\u001b[1;34m(key)\u001b[0m\n\u001b[0;32m      2\u001b[0m     \u001b[0mfile_loc\u001b[0m \u001b[1;33m=\u001b[0m \u001b[0mdocuments_dir\u001b[0m \u001b[1;33m+\u001b[0m \u001b[0mkey\u001b[0m \u001b[1;33m+\u001b[0m \u001b[1;34m\".pdf\"\u001b[0m\u001b[1;33m\u001b[0m\u001b[1;33m\u001b[0m\u001b[0m\n\u001b[0;32m      3\u001b[0m     \u001b[0mtext\u001b[0m \u001b[1;33m=\u001b[0m \u001b[1;34m\"\"\u001b[0m\u001b[1;33m\u001b[0m\u001b[1;33m\u001b[0m\u001b[0m\n\u001b[1;32m----> 4\u001b[1;33m     \u001b[1;32mwith\u001b[0m \u001b[0mpdfplumber\u001b[0m\u001b[1;33m.\u001b[0m\u001b[0mopen\u001b[0m\u001b[1;33m(\u001b[0m\u001b[0mfile_loc\u001b[0m\u001b[1;33m)\u001b[0m \u001b[1;32mas\u001b[0m \u001b[0mpdf\u001b[0m\u001b[1;33m:\u001b[0m\u001b[1;33m\u001b[0m\u001b[1;33m\u001b[0m\u001b[0m\n\u001b[0m\u001b[0;32m      5\u001b[0m \u001b[1;33m\u001b[0m\u001b[0m\n\u001b[0;32m      6\u001b[0m         \u001b[1;32mfor\u001b[0m \u001b[0mpage\u001b[0m \u001b[1;32min\u001b[0m \u001b[0mpdf\u001b[0m\u001b[1;33m.\u001b[0m\u001b[0mpages\u001b[0m\u001b[1;33m:\u001b[0m\u001b[1;33m\u001b[0m\u001b[1;33m\u001b[0m\u001b[0m\n",
      "\u001b[1;32m~\\Documents\\Programming\\Anaconda\\envs\\python38\\lib\\site-packages\\pdfplumber\\pdf.py\u001b[0m in \u001b[0;36mopen\u001b[1;34m(cls, path_or_fp, **kwargs)\u001b[0m\n\u001b[0;32m     54\u001b[0m         \u001b[1;32mif\u001b[0m \u001b[0misinstance\u001b[0m\u001b[1;33m(\u001b[0m\u001b[0mpath_or_fp\u001b[0m\u001b[1;33m,\u001b[0m \u001b[1;33m(\u001b[0m\u001b[0mstr\u001b[0m\u001b[1;33m,\u001b[0m \u001b[0mpathlib\u001b[0m\u001b[1;33m.\u001b[0m\u001b[0mPath\u001b[0m\u001b[1;33m)\u001b[0m\u001b[1;33m)\u001b[0m\u001b[1;33m:\u001b[0m\u001b[1;33m\u001b[0m\u001b[1;33m\u001b[0m\u001b[0m\n\u001b[0;32m     55\u001b[0m             \u001b[0mfp\u001b[0m \u001b[1;33m=\u001b[0m \u001b[0mopen\u001b[0m\u001b[1;33m(\u001b[0m\u001b[0mpath_or_fp\u001b[0m\u001b[1;33m,\u001b[0m \u001b[1;34m\"rb\"\u001b[0m\u001b[1;33m)\u001b[0m\u001b[1;33m\u001b[0m\u001b[1;33m\u001b[0m\u001b[0m\n\u001b[1;32m---> 56\u001b[1;33m             \u001b[0minst\u001b[0m \u001b[1;33m=\u001b[0m \u001b[0mcls\u001b[0m\u001b[1;33m(\u001b[0m\u001b[0mfp\u001b[0m\u001b[1;33m,\u001b[0m \u001b[1;33m**\u001b[0m\u001b[0mkwargs\u001b[0m\u001b[1;33m)\u001b[0m\u001b[1;33m\u001b[0m\u001b[1;33m\u001b[0m\u001b[0m\n\u001b[0m\u001b[0;32m     57\u001b[0m             \u001b[0minst\u001b[0m\u001b[1;33m.\u001b[0m\u001b[0mclose_file\u001b[0m \u001b[1;33m=\u001b[0m \u001b[0mfp\u001b[0m\u001b[1;33m.\u001b[0m\u001b[0mclose\u001b[0m\u001b[1;33m\u001b[0m\u001b[1;33m\u001b[0m\u001b[0m\n\u001b[0;32m     58\u001b[0m             \u001b[1;32mreturn\u001b[0m \u001b[0minst\u001b[0m\u001b[1;33m\u001b[0m\u001b[1;33m\u001b[0m\u001b[0m\n",
      "\u001b[1;32m~\\Documents\\Programming\\Anaconda\\envs\\python38\\lib\\site-packages\\pdfplumber\\pdf.py\u001b[0m in \u001b[0;36m__init__\u001b[1;34m(self, stream, pages, laparams, precision, password, strict_metadata)\u001b[0m\n\u001b[0;32m     31\u001b[0m         \u001b[0mself\u001b[0m\u001b[1;33m.\u001b[0m\u001b[0mpages_to_parse\u001b[0m \u001b[1;33m=\u001b[0m \u001b[0mpages\u001b[0m\u001b[1;33m\u001b[0m\u001b[1;33m\u001b[0m\u001b[0m\n\u001b[0;32m     32\u001b[0m         \u001b[0mself\u001b[0m\u001b[1;33m.\u001b[0m\u001b[0mprecision\u001b[0m \u001b[1;33m=\u001b[0m \u001b[0mprecision\u001b[0m\u001b[1;33m\u001b[0m\u001b[1;33m\u001b[0m\u001b[0m\n\u001b[1;32m---> 33\u001b[1;33m         \u001b[0mself\u001b[0m\u001b[1;33m.\u001b[0m\u001b[0mdoc\u001b[0m \u001b[1;33m=\u001b[0m \u001b[0mPDFDocument\u001b[0m\u001b[1;33m(\u001b[0m\u001b[0mPDFParser\u001b[0m\u001b[1;33m(\u001b[0m\u001b[0mstream\u001b[0m\u001b[1;33m)\u001b[0m\u001b[1;33m,\u001b[0m \u001b[0mpassword\u001b[0m\u001b[1;33m=\u001b[0m\u001b[0mpassword\u001b[0m\u001b[1;33m)\u001b[0m\u001b[1;33m\u001b[0m\u001b[1;33m\u001b[0m\u001b[0m\n\u001b[0m\u001b[0;32m     34\u001b[0m         \u001b[0mself\u001b[0m\u001b[1;33m.\u001b[0m\u001b[0mrsrcmgr\u001b[0m \u001b[1;33m=\u001b[0m \u001b[0mPDFResourceManager\u001b[0m\u001b[1;33m(\u001b[0m\u001b[1;33m)\u001b[0m\u001b[1;33m\u001b[0m\u001b[1;33m\u001b[0m\u001b[0m\n\u001b[0;32m     35\u001b[0m         \u001b[0mself\u001b[0m\u001b[1;33m.\u001b[0m\u001b[0mmetadata\u001b[0m \u001b[1;33m=\u001b[0m \u001b[1;33m{\u001b[0m\u001b[1;33m}\u001b[0m\u001b[1;33m\u001b[0m\u001b[1;33m\u001b[0m\u001b[0m\n",
      "\u001b[1;32m~\\Documents\\Programming\\Anaconda\\envs\\python38\\lib\\site-packages\\pdfminer\\pdfdocument.py\u001b[0m in \u001b[0;36m__init__\u001b[1;34m(self, parser, password, caching, fallback)\u001b[0m\n\u001b[0;32m    552\u001b[0m             \u001b[0mparser\u001b[0m\u001b[1;33m.\u001b[0m\u001b[0mfallback\u001b[0m \u001b[1;33m=\u001b[0m \u001b[1;32mTrue\u001b[0m\u001b[1;33m\u001b[0m\u001b[1;33m\u001b[0m\u001b[0m\n\u001b[0;32m    553\u001b[0m             \u001b[0mxref\u001b[0m \u001b[1;33m=\u001b[0m \u001b[0mPDFXRefFallback\u001b[0m\u001b[1;33m(\u001b[0m\u001b[1;33m)\u001b[0m\u001b[1;33m\u001b[0m\u001b[1;33m\u001b[0m\u001b[0m\n\u001b[1;32m--> 554\u001b[1;33m             \u001b[0mxref\u001b[0m\u001b[1;33m.\u001b[0m\u001b[0mload\u001b[0m\u001b[1;33m(\u001b[0m\u001b[0mparser\u001b[0m\u001b[1;33m)\u001b[0m\u001b[1;33m\u001b[0m\u001b[1;33m\u001b[0m\u001b[0m\n\u001b[0m\u001b[0;32m    555\u001b[0m             \u001b[0mself\u001b[0m\u001b[1;33m.\u001b[0m\u001b[0mxrefs\u001b[0m\u001b[1;33m.\u001b[0m\u001b[0mappend\u001b[0m\u001b[1;33m(\u001b[0m\u001b[0mxref\u001b[0m\u001b[1;33m)\u001b[0m\u001b[1;33m\u001b[0m\u001b[1;33m\u001b[0m\u001b[0m\n\u001b[0;32m    556\u001b[0m         \u001b[1;32mfor\u001b[0m \u001b[0mxref\u001b[0m \u001b[1;32min\u001b[0m \u001b[0mself\u001b[0m\u001b[1;33m.\u001b[0m\u001b[0mxrefs\u001b[0m\u001b[1;33m:\u001b[0m\u001b[1;33m\u001b[0m\u001b[1;33m\u001b[0m\u001b[0m\n",
      "\u001b[1;32m~\\Documents\\Programming\\Anaconda\\envs\\python38\\lib\\site-packages\\pdfminer\\pdfdocument.py\u001b[0m in \u001b[0;36mload\u001b[1;34m(self, parser)\u001b[0m\n\u001b[0;32m    175\u001b[0m             \u001b[1;31m# expand ObjStm.\u001b[0m\u001b[1;33m\u001b[0m\u001b[1;33m\u001b[0m\u001b[1;33m\u001b[0m\u001b[0m\n\u001b[0;32m    176\u001b[0m             \u001b[0mparser\u001b[0m\u001b[1;33m.\u001b[0m\u001b[0mseek\u001b[0m\u001b[1;33m(\u001b[0m\u001b[0mpos\u001b[0m\u001b[1;33m)\u001b[0m\u001b[1;33m\u001b[0m\u001b[1;33m\u001b[0m\u001b[0m\n\u001b[1;32m--> 177\u001b[1;33m             \u001b[1;33m(\u001b[0m\u001b[0m_\u001b[0m\u001b[1;33m,\u001b[0m \u001b[0mobj\u001b[0m\u001b[1;33m)\u001b[0m \u001b[1;33m=\u001b[0m \u001b[0mparser\u001b[0m\u001b[1;33m.\u001b[0m\u001b[0mnextobject\u001b[0m\u001b[1;33m(\u001b[0m\u001b[1;33m)\u001b[0m\u001b[1;33m\u001b[0m\u001b[1;33m\u001b[0m\u001b[0m\n\u001b[0m\u001b[0;32m    178\u001b[0m             \u001b[1;32mif\u001b[0m \u001b[0misinstance\u001b[0m\u001b[1;33m(\u001b[0m\u001b[0mobj\u001b[0m\u001b[1;33m,\u001b[0m \u001b[0mPDFStream\u001b[0m\u001b[1;33m)\u001b[0m\u001b[0;31m \u001b[0m\u001b[0;31m\\\u001b[0m\u001b[1;33m\u001b[0m\u001b[1;33m\u001b[0m\u001b[0m\n\u001b[0;32m    179\u001b[0m                     \u001b[1;32mand\u001b[0m \u001b[0mobj\u001b[0m\u001b[1;33m.\u001b[0m\u001b[0mget\u001b[0m\u001b[1;33m(\u001b[0m\u001b[1;34m'Type'\u001b[0m\u001b[1;33m)\u001b[0m \u001b[1;32mis\u001b[0m \u001b[0mLITERAL_OBJSTM\u001b[0m\u001b[1;33m:\u001b[0m\u001b[1;33m\u001b[0m\u001b[1;33m\u001b[0m\u001b[0m\n",
      "\u001b[1;32m~\\Documents\\Programming\\Anaconda\\envs\\python38\\lib\\site-packages\\pdfminer\\psparser.py\u001b[0m in \u001b[0;36mnextobject\u001b[1;34m(self)\u001b[0m\n\u001b[0;32m    565\u001b[0m         \"\"\"\n\u001b[0;32m    566\u001b[0m         \u001b[1;32mwhile\u001b[0m \u001b[1;32mnot\u001b[0m \u001b[0mself\u001b[0m\u001b[1;33m.\u001b[0m\u001b[0mresults\u001b[0m\u001b[1;33m:\u001b[0m\u001b[1;33m\u001b[0m\u001b[1;33m\u001b[0m\u001b[0m\n\u001b[1;32m--> 567\u001b[1;33m             \u001b[1;33m(\u001b[0m\u001b[0mpos\u001b[0m\u001b[1;33m,\u001b[0m \u001b[0mtoken\u001b[0m\u001b[1;33m)\u001b[0m \u001b[1;33m=\u001b[0m \u001b[0mself\u001b[0m\u001b[1;33m.\u001b[0m\u001b[0mnexttoken\u001b[0m\u001b[1;33m(\u001b[0m\u001b[1;33m)\u001b[0m\u001b[1;33m\u001b[0m\u001b[1;33m\u001b[0m\u001b[0m\n\u001b[0m\u001b[0;32m    568\u001b[0m             \u001b[1;32mif\u001b[0m \u001b[0misinstance\u001b[0m\u001b[1;33m(\u001b[0m\u001b[0mtoken\u001b[0m\u001b[1;33m,\u001b[0m \u001b[1;33m(\u001b[0m\u001b[0mint\u001b[0m\u001b[1;33m,\u001b[0m \u001b[0mfloat\u001b[0m\u001b[1;33m,\u001b[0m \u001b[0mbool\u001b[0m\u001b[1;33m,\u001b[0m \u001b[0mstr\u001b[0m\u001b[1;33m,\u001b[0m \u001b[0mbytes\u001b[0m\u001b[1;33m,\u001b[0m \u001b[0mPSLiteral\u001b[0m\u001b[1;33m)\u001b[0m\u001b[1;33m)\u001b[0m\u001b[1;33m:\u001b[0m\u001b[1;33m\u001b[0m\u001b[1;33m\u001b[0m\u001b[0m\n\u001b[0;32m    569\u001b[0m                 \u001b[1;31m# normal token\u001b[0m\u001b[1;33m\u001b[0m\u001b[1;33m\u001b[0m\u001b[1;33m\u001b[0m\u001b[0m\n",
      "\u001b[1;32m~\\Documents\\Programming\\Anaconda\\envs\\python38\\lib\\site-packages\\pdfminer\\psparser.py\u001b[0m in \u001b[0;36mnexttoken\u001b[1;34m(self)\u001b[0m\n\u001b[0;32m    491\u001b[0m     \u001b[1;32mdef\u001b[0m \u001b[0mnexttoken\u001b[0m\u001b[1;33m(\u001b[0m\u001b[0mself\u001b[0m\u001b[1;33m)\u001b[0m\u001b[1;33m:\u001b[0m\u001b[1;33m\u001b[0m\u001b[1;33m\u001b[0m\u001b[0m\n\u001b[0;32m    492\u001b[0m         \u001b[1;32mwhile\u001b[0m \u001b[1;32mnot\u001b[0m \u001b[0mself\u001b[0m\u001b[1;33m.\u001b[0m\u001b[0m_tokens\u001b[0m\u001b[1;33m:\u001b[0m\u001b[1;33m\u001b[0m\u001b[1;33m\u001b[0m\u001b[0m\n\u001b[1;32m--> 493\u001b[1;33m             \u001b[0mself\u001b[0m\u001b[1;33m.\u001b[0m\u001b[0mfillbuf\u001b[0m\u001b[1;33m(\u001b[0m\u001b[1;33m)\u001b[0m\u001b[1;33m\u001b[0m\u001b[1;33m\u001b[0m\u001b[0m\n\u001b[0m\u001b[0;32m    494\u001b[0m             \u001b[0mself\u001b[0m\u001b[1;33m.\u001b[0m\u001b[0mcharpos\u001b[0m \u001b[1;33m=\u001b[0m \u001b[0mself\u001b[0m\u001b[1;33m.\u001b[0m\u001b[0m_parse1\u001b[0m\u001b[1;33m(\u001b[0m\u001b[0mself\u001b[0m\u001b[1;33m.\u001b[0m\u001b[0mbuf\u001b[0m\u001b[1;33m,\u001b[0m \u001b[0mself\u001b[0m\u001b[1;33m.\u001b[0m\u001b[0mcharpos\u001b[0m\u001b[1;33m)\u001b[0m\u001b[1;33m\u001b[0m\u001b[1;33m\u001b[0m\u001b[0m\n\u001b[0;32m    495\u001b[0m         \u001b[0mtoken\u001b[0m \u001b[1;33m=\u001b[0m \u001b[0mself\u001b[0m\u001b[1;33m.\u001b[0m\u001b[0m_tokens\u001b[0m\u001b[1;33m.\u001b[0m\u001b[0mpop\u001b[0m\u001b[1;33m(\u001b[0m\u001b[1;36m0\u001b[0m\u001b[1;33m)\u001b[0m\u001b[1;33m\u001b[0m\u001b[1;33m\u001b[0m\u001b[0m\n",
      "\u001b[1;32m~\\Documents\\Programming\\Anaconda\\envs\\python38\\lib\\site-packages\\pdfminer\\psparser.py\u001b[0m in \u001b[0;36mfillbuf\u001b[1;34m(self)\u001b[0m\n\u001b[0;32m    219\u001b[0m         \u001b[0mself\u001b[0m\u001b[1;33m.\u001b[0m\u001b[0mbuf\u001b[0m \u001b[1;33m=\u001b[0m \u001b[0mself\u001b[0m\u001b[1;33m.\u001b[0m\u001b[0mfp\u001b[0m\u001b[1;33m.\u001b[0m\u001b[0mread\u001b[0m\u001b[1;33m(\u001b[0m\u001b[0mself\u001b[0m\u001b[1;33m.\u001b[0m\u001b[0mBUFSIZ\u001b[0m\u001b[1;33m)\u001b[0m\u001b[1;33m\u001b[0m\u001b[1;33m\u001b[0m\u001b[0m\n\u001b[0;32m    220\u001b[0m         \u001b[1;32mif\u001b[0m \u001b[1;32mnot\u001b[0m \u001b[0mself\u001b[0m\u001b[1;33m.\u001b[0m\u001b[0mbuf\u001b[0m\u001b[1;33m:\u001b[0m\u001b[1;33m\u001b[0m\u001b[1;33m\u001b[0m\u001b[0m\n\u001b[1;32m--> 221\u001b[1;33m             \u001b[1;32mraise\u001b[0m \u001b[0mPSEOF\u001b[0m\u001b[1;33m(\u001b[0m\u001b[1;34m'Unexpected EOF'\u001b[0m\u001b[1;33m)\u001b[0m\u001b[1;33m\u001b[0m\u001b[1;33m\u001b[0m\u001b[0m\n\u001b[0m\u001b[0;32m    222\u001b[0m         \u001b[0mself\u001b[0m\u001b[1;33m.\u001b[0m\u001b[0mcharpos\u001b[0m \u001b[1;33m=\u001b[0m \u001b[1;36m0\u001b[0m\u001b[1;33m\u001b[0m\u001b[1;33m\u001b[0m\u001b[0m\n\u001b[0;32m    223\u001b[0m         \u001b[1;32mreturn\u001b[0m\u001b[1;33m\u001b[0m\u001b[1;33m\u001b[0m\u001b[0m\n",
      "\u001b[1;31mPSEOF\u001b[0m: Unexpected EOF"
     ]
    }
   ],
   "source": [
    "for key in nonDuplicateDocumentsInformation.keys():\n",
    "    save_text_from_pdf(key)"
   ]
  },
  {
   "cell_type": "code",
   "execution_count": 5,
   "id": "15919590",
   "metadata": {},
   "outputs": [],
   "source": [
    "save_text_from_pdf(key)"
   ]
  },
  {
   "cell_type": "code",
   "execution_count": null,
   "id": "1be457b7",
   "metadata": {},
   "outputs": [],
   "source": [
    "# making use of multithreading to hopefully increase the speed of text extraction\n",
    "pool = ThreadPool(8)\n",
    "\n",
    "pool.map(save_text_from_pdf, nonDuplicateDocumentsInformation.keys())\n",
    "\n",
    "# Close the pool and wait for the work to finish\n",
    "pool.close()\n",
    "pool.join()\n",
    "\n",
    "#save_text_from_pdf(\"72cc4b22-0de8-4a83-ae9c-b4961b74050e\")"
   ]
  },
  {
   "cell_type": "code",
   "execution_count": null,
   "id": "6028e67d",
   "metadata": {},
   "outputs": [],
   "source": []
  }
 ],
 "metadata": {
  "kernelspec": {
   "display_name": "Python 3",
   "language": "python",
   "name": "python3"
  },
  "language_info": {
   "codemirror_mode": {
    "name": "ipython",
    "version": 3
   },
   "file_extension": ".py",
   "mimetype": "text/x-python",
   "name": "python",
   "nbconvert_exporter": "python",
   "pygments_lexer": "ipython3",
   "version": "3.8.5"
  }
 },
 "nbformat": 4,
 "nbformat_minor": 5
}
