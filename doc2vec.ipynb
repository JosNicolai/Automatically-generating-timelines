{
 "cells": [
  {
   "cell_type": "markdown",
   "id": "0e53828b",
   "metadata": {},
   "source": [
    "# Similarity using doc2vec"
   ]
  },
  {
   "cell_type": "code",
   "execution_count": 2,
   "id": "4049ce3a",
   "metadata": {},
   "outputs": [
    {
     "name": "stdout",
     "output_type": "stream",
     "text": [
      "<class 'pandas.core.frame.DataFrame'>\n"
     ]
    }
   ],
   "source": [
    "# importing the necessary packages\n",
    "import numpy as np\n",
    "import pandas as pd\n",
    "import os\n",
    "import re\n",
    "from tqdm import tqdm\n",
    "\n",
    "from gensim.models.doc2vec import Doc2Vec, TaggedDocument\n",
    "from sklearn.metrics.pairwise import cosine_similarity\n",
    "\n",
    "os.chdir(\"C:\\\\Users\\\\SJNic\\\\Documents\\\\University\\\\Master\\\\Thesis\\\\Thesis Code\")\n",
    "\n",
    "\n",
    "lemmas = pd.read_pickle(\"Similarities/newLemmas.pkl\")#.to_frame()\n",
    "print(type(lemmas))"
   ]
  },
  {
   "cell_type": "code",
   "execution_count": 3,
   "id": "c05ce76b",
   "metadata": {},
   "outputs": [
    {
     "data": {
      "text/html": [
       "<div>\n",
       "<style scoped>\n",
       "    .dataframe tbody tr th:only-of-type {\n",
       "        vertical-align: middle;\n",
       "    }\n",
       "\n",
       "    .dataframe tbody tr th {\n",
       "        vertical-align: top;\n",
       "    }\n",
       "\n",
       "    .dataframe thead th {\n",
       "        text-align: right;\n",
       "    }\n",
       "</style>\n",
       "<table border=\"1\" class=\"dataframe\">\n",
       "  <thead>\n",
       "    <tr style=\"text-align: right;\">\n",
       "      <th></th>\n",
       "      <th>lemmas</th>\n",
       "    </tr>\n",
       "    <tr>\n",
       "      <th>key</th>\n",
       "      <th></th>\n",
       "    </tr>\n",
       "  </thead>\n",
       "  <tbody>\n",
       "    <tr>\n",
       "      <th>0000a2fd-0427-4949-a3b4-e39f4635f421</th>\n",
       "      <td>[cx, e, t, fric, cd, clliot, f, tc, apt, motie...</td>\n",
       "    </tr>\n",
       "    <tr>\n",
       "      <th>0005b23b-f2be-4b55-9f83-dcf966cb3b29</th>\n",
       "      <td>[]</td>\n",
       "    </tr>\n",
       "    <tr>\n",
       "      <th>00068e84-19ef-4db9-8d2a-7e51ff69e18c</th>\n",
       "      <td>[utrecht, amendement, vergadering, zijn, gemee...</td>\n",
       "    </tr>\n",
       "    <tr>\n",
       "      <th>00096dc9-44fd-4ba2-aa89-6ece5f79a44b</th>\n",
       "      <td>[motie, beargumenter, bezuinig, gemeenteraad, ...</td>\n",
       "    </tr>\n",
       "    <tr>\n",
       "      <th>00097ca8-b918-4dd3-99bf-9728d1fd5ee4</th>\n",
       "      <td>[bijlage, bizone, merwedekanaalzon, zuid]</td>\n",
       "    </tr>\n",
       "    <tr>\n",
       "      <th>...</th>\n",
       "      <td>...</td>\n",
       "    </tr>\n",
       "    <tr>\n",
       "      <th>fff65d87-1368-42a0-85a0-028a36b66820</th>\n",
       "      <td>[stadsontwikkeling, bijlage, bestemmingsplan, ...</td>\n",
       "    </tr>\n",
       "    <tr>\n",
       "      <th>fff9faf4-7f86-43af-a065-d803b85e1268</th>\n",
       "      <td>[verordening, upas, gemeente, utrecht, raad, g...</td>\n",
       "    </tr>\n",
       "    <tr>\n",
       "      <th>fffe5196-feb7-4be1-8ef7-cc55a79e16ac</th>\n",
       "      <td>[]</td>\n",
       "    </tr>\n",
       "    <tr>\n",
       "      <th>ffff3a5f-58f5-466f-9910-3f2866c00ee4</th>\n",
       "      <td>[ontwerp, raadsbesluit, voorstel, w, dd, jaarg...</td>\n",
       "    </tr>\n",
       "    <tr>\n",
       "      <th>ffff887f-cbdc-4930-adc4-d16c061a71db</th>\n",
       "      <td>[]</td>\n",
       "    </tr>\n",
       "  </tbody>\n",
       "</table>\n",
       "<p>44613 rows × 1 columns</p>\n",
       "</div>"
      ],
      "text/plain": [
       "                                                                                 lemmas\n",
       "key                                                                                    \n",
       "0000a2fd-0427-4949-a3b4-e39f4635f421  [cx, e, t, fric, cd, clliot, f, tc, apt, motie...\n",
       "0005b23b-f2be-4b55-9f83-dcf966cb3b29                                                 []\n",
       "00068e84-19ef-4db9-8d2a-7e51ff69e18c  [utrecht, amendement, vergadering, zijn, gemee...\n",
       "00096dc9-44fd-4ba2-aa89-6ece5f79a44b  [motie, beargumenter, bezuinig, gemeenteraad, ...\n",
       "00097ca8-b918-4dd3-99bf-9728d1fd5ee4          [bijlage, bizone, merwedekanaalzon, zuid]\n",
       "...                                                                                 ...\n",
       "fff65d87-1368-42a0-85a0-028a36b66820  [stadsontwikkeling, bijlage, bestemmingsplan, ...\n",
       "fff9faf4-7f86-43af-a065-d803b85e1268  [verordening, upas, gemeente, utrecht, raad, g...\n",
       "fffe5196-feb7-4be1-8ef7-cc55a79e16ac                                                 []\n",
       "ffff3a5f-58f5-466f-9910-3f2866c00ee4  [ontwerp, raadsbesluit, voorstel, w, dd, jaarg...\n",
       "ffff887f-cbdc-4930-adc4-d16c061a71db                                                 []\n",
       "\n",
       "[44613 rows x 1 columns]"
      ]
     },
     "execution_count": 3,
     "metadata": {},
     "output_type": "execute_result"
    }
   ],
   "source": [
    "lemmas"
   ]
  },
  {
   "cell_type": "code",
   "execution_count": 6,
   "id": "13357f38",
   "metadata": {},
   "outputs": [],
   "source": [
    "tagged_data = [TaggedDocument(words=doc, tags=[i]) for i, doc in enumerate(lemmas.lemmas)]\n",
    "model_d2v = Doc2Vec(vector_size=100,alpha=0.025, min_count=1)\n",
    "model_d2v.build_vocab(tagged_data)"
   ]
  },
  {
   "cell_type": "code",
   "execution_count": 7,
   "id": "bab1044f",
   "metadata": {},
   "outputs": [
    {
     "name": "stderr",
     "output_type": "stream",
     "text": [
      "100%|██████████| 100/100 [10:07:18<00:00, 364.39s/it]\n"
     ]
    }
   ],
   "source": [
    "for epoch in tqdm(range(100)):\n",
    "    model_d2v.train(tagged_data,\n",
    "                total_examples=model_d2v.corpus_count,\n",
    "                epochs=model_d2v.epochs)"
   ]
  },
  {
   "cell_type": "code",
   "execution_count": 8,
   "id": "68ae8060",
   "metadata": {},
   "outputs": [],
   "source": [
    "document_embeddings=np.zeros((lemmas.shape[0],100))"
   ]
  },
  {
   "cell_type": "code",
   "execution_count": 9,
   "id": "6174b94d",
   "metadata": {},
   "outputs": [
    {
     "data": {
      "text/plain": [
       "(44613, 100)"
      ]
     },
     "execution_count": 9,
     "metadata": {},
     "output_type": "execute_result"
    }
   ],
   "source": [
    "document_embeddings.shape"
   ]
  },
  {
   "cell_type": "code",
   "execution_count": 10,
   "id": "91f84cb7",
   "metadata": {},
   "outputs": [
    {
     "name": "stderr",
     "output_type": "stream",
     "text": [
      "  0%|          | 0/44613 [00:00<?, ?it/s]<ipython-input-10-a5baa0a14802>:2: DeprecationWarning: Call to deprecated `docvecs` (The `docvecs` property has been renamed `dv`.).\n",
      "  document_embeddings[i]=model_d2v.docvecs[i]\n",
      "100%|██████████| 44613/44613 [00:00<00:00, 222476.70it/s]\n"
     ]
    }
   ],
   "source": [
    "for i in tqdm(range(len(document_embeddings))):\n",
    "    document_embeddings[i]=model_d2v.docvecs[i]"
   ]
  },
  {
   "cell_type": "code",
   "execution_count": 11,
   "id": "5221fca0",
   "metadata": {},
   "outputs": [],
   "source": [
    "# saving the mebeddings\n",
    "np.save(\"Similarities/document_embeddings.npy\", document_embeddings)"
   ]
  },
  {
   "cell_type": "code",
   "execution_count": 3,
   "id": "96115d46",
   "metadata": {},
   "outputs": [],
   "source": [
    "# loading the embeddings\n",
    "document_embeddings = np.load(\"Similarities/document_embeddings.npy\")"
   ]
  },
  {
   "cell_type": "markdown",
   "id": "506a96b9",
   "metadata": {},
   "source": [
    "# Pairwise similarities"
   ]
  },
  {
   "cell_type": "code",
   "execution_count": 12,
   "id": "4132b4c8",
   "metadata": {},
   "outputs": [],
   "source": [
    "pairwise_similarities=cosine_similarity(document_embeddings)"
   ]
  },
  {
   "cell_type": "code",
   "execution_count": 13,
   "id": "6269948d",
   "metadata": {},
   "outputs": [
    {
     "data": {
      "text/plain": [
       "(44613, 44613)"
      ]
     },
     "execution_count": 13,
     "metadata": {},
     "output_type": "execute_result"
    }
   ],
   "source": [
    "pairwise_similarities.shape"
   ]
  },
  {
   "cell_type": "code",
   "execution_count": 20,
   "id": "4e62fdd3",
   "metadata": {},
   "outputs": [],
   "source": [
    "#np.save(\"Similarities/pairwise_similarities\", pairwise_similarities)"
   ]
  },
  {
   "cell_type": "code",
   "execution_count": 17,
   "id": "43108033",
   "metadata": {},
   "outputs": [],
   "source": [
    "# function for calculating the similarity between two vectors\n",
    "def most_similar(item_ID,similarity_matrix, max_items):\n",
    "    print (f'Document: {lemmas.iloc[item_ID][\"lemmas\"][0:40]}')\n",
    "    print ('Similar Documents:')\n",
    "    \n",
    "    most_related_items = []\n",
    "    \n",
    "    similar_ix=np.argsort(similarity_matrix[item_ID])[::-1]\n",
    "    \n",
    "    for ix in similar_ix[:max_items]:\n",
    "        if ix==item_ID:\n",
    "            continue\n",
    "        docID = lemmas.index[ix]\n",
    "        most_related_items.append(docID)\n",
    "        print(\"______________________________________________________________________________________________\")\n",
    "        print(f\"DOC ID: {docID}\")\n",
    "        print(f\"DOC loc: {lemmas.index.get_loc(docID)}\")\n",
    "        print (f'Similarity score : {similarity_matrix[item_ID][ix]}')\n",
    "        print (f'Text preview: {lemmas.iloc[ix][\"lemmas\"][0:40]}')\n",
    "        \n",
    "    return most_related_items"
   ]
  },
  {
   "cell_type": "code",
   "execution_count": 25,
   "id": "fdf1c3e2",
   "metadata": {},
   "outputs": [
    {
     "data": {
      "text/plain": [
       "23028"
      ]
     },
     "execution_count": 25,
     "metadata": {},
     "output_type": "execute_result"
    }
   ],
   "source": [
    "lemmas.index.get_loc(\"853cc5b5-f973-4a05-8045-b4e3319e3c91\")"
   ]
  },
  {
   "cell_type": "code",
   "execution_count": 17,
   "id": "1d7435c6",
   "metadata": {},
   "outputs": [
    {
     "name": "stdout",
     "output_type": "stream",
     "text": [
      "90\n",
      "['voorzitter', 'raad', 'fractie', 'cda', 'd66', 'gemeenteraad', 'oktober', 'debat', 'mogen', 'houden', 'feit', 'college', 'nouw', 'nieuw', 'invalsweg', 'a2', 'centrum', 'opnemen', 'actieplan', 'donderdag', 'september', 'college', 'actieplan', 'luchtkwaliteit', 'presenteren', 'plan', 'maatregel', 'luchtkwaliteit', 'verbeteren', 'groot', 'ruimtelijk', 'plan', 'studie', 'gemeente', 'komen', 'jaar', 'besluit', 'willen', 'nemen', 'leidsch', 'rijn', 'centrum', 'rijnenburg', 'actieplan', 'zijn', 'vrijblijvend', 'plan', 'gemeente', 'utrecht', 'actieplan', 'onderdeel', 'uitmaken', 'nationaal', 'samenwerkingsprogramma', 'luchtkwaliteit', 'nsl', 'maatregel', 'nsl', 'maatregel', 'actieplan', 'uitvoeringsplicht', 'project', 'actieplan', 'besluitvorming', 'plaats', 'kunnen', 'vinden', 'periode', 'half', 'oktober', 'gemeente', 'utrecht', 'ander', 'overheid', 'regio', 'vast', 'maatregel', 'project', 'indienen', 'nsl', 'project', 'opnemen', 'nsl', 'hoog', 'waarschijnlijk', 'doorgang', 'vinden', 'project', 'compenseren', 'maatregel', 'nsl', 'worden', 'noemen', 'luchtkwaliteit', 'verbeteren', 'collegeprogramma', 'collegeperiode', 'besluit', 'toekomst', 'kader', 'nouw', 'aanvullen', 'infrastructureel', 'voorziening', 'nodig', 'zijn', 'wethouder', 'weger', 'bevestigen', 'commissievergadering', 'mei', 'vergadering', 'aangeven', 'coalitiepartner', 'grondig', 'nouw', 'gaan', 'verdiepen', 'werken', 'besluitvorming', 'fractie', 'cda', 'd66', 'college', 'besluiten', 'nouw', 'nemen', 'actieplan', 'besluitvorming', 'onmogelijk', 'maken', 'vvd', 'cda', 'd66', 'college', 'weten', 'bereid', 'zijn', 'nouw', 'nemen', 'regionaal', 'overeenstemming', 'zijn', 'bereiken', 'project', 'nationaal', 'samenwerkingsprogramma', 'worden', 'opnemen', 'vriendelijk', 'groet', 'daniëlle', 'van', 'den', 'broek', 'maarten', 'ditmarsch', 'alice', 'rooij', 'cda', 'd66', 'afschrift', 'presidium']\n"
     ]
    }
   ],
   "source": [
    "for i in range(1000):\n",
    "    #print(lemmas.iloc[i].lemmas)\n",
    "    if len(lemmas.iloc[i].lemmas) > 1:\n",
    "        print(i)\n",
    "        print(lemmas.iloc[i].lemmas)\n",
    "        break\n"
   ]
  },
  {
   "cell_type": "code",
   "execution_count": 26,
   "id": "734c639e",
   "metadata": {},
   "outputs": [
    {
     "name": "stdout",
     "output_type": "stream",
     "text": [
      "Document: ['utrecht', 'circulair', 'utrechtnl', 'circulair', 'utrecht', 'circulair', 'colofon', 'omslagfoto', 'cultuurvoorziening', 'berlijnplein', 'projectgroep', 'marieke', 'hoffmann', 'hele', 'yvanca', 'ike', 'demian', 'keetelaars', 'zeger', 'johan', 'boterenbrood', 'gerhard', 'frank', 'van', 'der', 'vaart', 'dank', 'intern', 'extern', 'betrekken', 'projectmanagement', 'wim', 'beelen', 'anouk', 'teuns', 'edwin', 'koster', 'grafisch', 'realisatie', 'ontwerpstudioruimte']\n",
      "Similar Documents:\n",
      "______________________________________________________________________________________________\n",
      "DOC ID: 4c7275c1-50a6-4448-9462-8723ecfe85f2\n",
      "DOC loc: 13282\n",
      "Similarity score : 0.6892498725159937\n",
      "Text preview: ['bijlage', 'inzet', 'stad', 'amsterdam', 'ambitie', 'koploper', 'transitie', 'circulair', 'economie', 'circulair', 'economie', 'zijn', 'rood', 'draad', 'overkoepelen', 'thema', 'agenda', 'duurzaam', 'maart', 'unaniem', 'zijn', 'vaststellen', 'gemeenteraad', 'amsterdam', 'zijn', 'stad', 'integraal', 'aanpak', 'bestuurlijk', 'verankeren', 'amsterdam', 'circulair', 'n', 'stad', 'regio', 'amsterdam', 'kwantitatief', 'onderzoek', 'laten', 'doen']\n",
      "______________________________________________________________________________________________\n",
      "DOC ID: 71e19129-1de6-43da-96dd-f71b13de2252\n",
      "DOC loc: 19720\n",
      "Similarity score : 0.6537822475357462\n",
      "Text preview: ['meerjar', 'perspectief', 'ruimte', 'mei', 'kenmerk', 'utrechtnl', 'colofon', 'opdracht', 'ontwikkelorganisatie', 'ruimte', 'internet', 'httpswwwruimtelijkeprojectenutrechtnl', 'fotografie', 'merijn', 'van', 'der', 'vliet', 'your', 'captain', 'mei', 'inhoud', 'inleiding', 'samenvatting', 'conclusie', 'groeien', 'stad', 'ruimtelijk', 'strategie', 'utrecht', 'utrecht', 'opgave', 'utrecht', 'balans', 'werk', 'duurzaam', 'mobiliteit', 'gezond', 'leefklimaat', 'ruimte', 'groen']\n",
      "______________________________________________________________________________________________\n",
      "DOC ID: 5c7abeb6-41f1-4875-8e70-7e0f4fbc5622\n",
      "DOC loc: 16056\n",
      "Similarity score : 0.6526024395035199\n",
      "Text preview: ['voorstel', 'raad', 'opstellen', 'ontwikkelorganisatie', 'ruimte', 'beelen', 'wim', 'kenmerk', 'vergadering', 'vergaderdatum', 'geheim', 'beleidsveld', 'circulair', 'economie', 'raadsvoorstel', 'utrecht', 'circulair', 'college', 'burgemeester', 'wethouder', 'raad', 'volgen', 'besluiten', 'ambitie', 'circulair', 'stad', 'volgen', 'prioriteit', 'samenhang', 'hanteren', 'versterken', 'investeringsklimaat', 'circulair', 'inkoop', 'stimuler', 'circulair', 'gebiedsontwikkeling', 'circulair', 'bouwen', 'afvalvrij']\n",
      "______________________________________________________________________________________________\n",
      "DOC ID: 6303a678-c9ab-4e7f-a24a-442fee580ef5\n",
      "DOC loc: 17171\n",
      "Similarity score : 0.6460191006705683\n",
      "Text preview: ['burgemeester', 'wethouder', 'postadres', 'postbus', 'utrecht', 'telefoon', 'gemeenteraad', 'behandelen', 'anouk', 'teuns', 'datum', 'december', 'kenmerk', 'hm', 'email', 'ateunsutrechtnl', 'onderwerp', 'circulair', 'economie', 'bijlage', 'kenmerk', 'beleidsveld', 'duurzaamheid', 'brief', 'geacht', 'lid', 'raad', 'brief', 'stap', 'transitie', 'circulair', 'economie', 'uitvoering', 'ondertekening', 'grondstoffenakkoord', 'zien', 'brief', 'januari', 'motie', 'circulair']\n",
      "______________________________________________________________________________________________\n",
      "DOC ID: 924dcc1c-19db-4a1d-ae6a-1f9d40404920\n",
      "DOC loc: 25369\n",
      "Similarity score : 0.6422508983467201\n",
      "Text preview: ['meerjar', 'perspectief', 'ruimte', 'mei', 'kenmerk', 'utrechtnl', 'colofon', 'opdracht', 'ontwikkelorganisatie', 'ruimte', 'internet', 'httpswwwruimtelijkeprojectenutrechtnl', 'fotografie', 'merijn', 'van', 'der', 'vliet', 'your', 'captain', 'mei', 'inhoud', 'inleiding', 'samenvatting', 'conclusie', 'groeien', 'stad', 'ruimtelijk', 'strategie', 'utrecht', 'utrecht', 'opgave', 'utrecht', 'balans', 'werk', 'duurzaam', 'mobiliteit', 'gezond', 'leefklimaat', 'ruimte', 'groen']\n",
      "______________________________________________________________________________________________\n",
      "DOC ID: f6666399-1d0c-4563-83a0-a2be500d42bf\n",
      "DOC loc: 43010\n",
      "Similarity score : 0.6380316798958655\n",
      "Text preview: ['meerjar', 'perspectief', 'ruimte', 'mei', 'kenmerk', 'utrechtnl', 'colofon', 'opdracht', 'ontwikkelorganisatie', 'ruimte', 'internet', 'httpswwwruimtelijkeprojectenutrechtnl', 'fotografie', 'merijn', 'van', 'der', 'vliet', 'your', 'captain', 'mei', 'inhoud', 'inleiding', 'samenvatting', 'conclusie', 'groeien', 'stad', 'ruimtelijk', 'strategie', 'utrecht', 'utrecht', 'opgave', 'utrecht', 'balans', 'werk', 'duurzaam', 'mobiliteit', 'gezond', 'leefklimaat', 'ruimte', 'groen']\n",
      "______________________________________________________________________________________________\n",
      "DOC ID: 93d8384d-0925-4a9d-a82f-79bf862316dc\n",
      "DOC loc: 25645\n",
      "Similarity score : 0.6379180361895854\n",
      "Text preview: ['meerjar', 'perspectief', 'ruimte', 'mei', 'kenmerk', 'utrechtnl', 'colofon', 'opdracht', 'ontwikkelorganisatie', 'ruimte', 'internet', 'httpswwwruimtelijkeprojectenutrechtnl', 'fotografie', 'merijn', 'van', 'der', 'vliet', 'your', 'captain', 'mei', 'inhoud', 'inleiding', 'samenvatting', 'conclusie', 'groeien', 'stad', 'ruimtelijk', 'strategie', 'utrecht', 'utrecht', 'opgave', 'utrecht', 'balans', 'werk', 'duurzaam', 'mobiliteit', 'gezond', 'leefklimaat', 'ruimte', 'groen']\n",
      "______________________________________________________________________________________________\n",
      "DOC ID: e2e20a20-43e6-43fd-b876-3a1252f3a33b\n",
      "DOC loc: 39580\n",
      "Similarity score : 0.6282080774849382\n",
      "Text preview: ['meerjar', 'perspectief', 'ruimte', 'mei', 'kenmerk', 'utrechtnl', 'colofon', 'opdracht', 'ontwikkelorganisatie', 'ruimte', 'internet', 'httpswwwruimtelijkeprojectenutrechtnl', 'fotografie', 'merijn', 'van', 'der', 'vliet', 'your', 'captain', 'mei', 'inhoud', 'inleiding', 'samenvatting', 'conclusie', 'groeien', 'stad', 'ruimtelijk', 'strategie', 'utrecht', 'utrecht', 'opgave', 'utrecht', 'balans', 'werk', 'duurzaam', 'mobiliteit', 'gezond', 'leefklimaat', 'ruimte', 'groen']\n",
      "______________________________________________________________________________________________\n",
      "DOC ID: eb0aa161-015a-439e-8a7a-90ef83636c6d\n",
      "DOC loc: 41087\n",
      "Similarity score : 0.6275724858627827\n",
      "Text preview: ['klikken', 'volledig', 'scherm', 'duurzaamheidsverslag', 'utrechtnl', 'onderzoek', 'colofon', 'uitgave', 'onderzoek', 'advies', 'gemeente', 'utrecht', 'onderzoekutrechtnl', 'opdracht', 'ontwikkelorganisatie', 'ruimte', 'gemeente', 'utrecht', 'internet', 'wwwutrechtnlonderzoek', 'rapportage', 'isabella', 'janssen', 'janberno', 'van', 'lochem', 'infografics', 'johannes', 'van', 'raaij', 'foto', 'voorkant', 'edwin', 'wanrooij', 'informatie', 'janberno', 'van', 'lochem', 'inhoud', 'infographics']\n"
     ]
    },
    {
     "data": {
      "text/plain": [
       "['4c7275c1-50a6-4448-9462-8723ecfe85f2',\n",
       " '71e19129-1de6-43da-96dd-f71b13de2252',\n",
       " '5c7abeb6-41f1-4875-8e70-7e0f4fbc5622',\n",
       " '6303a678-c9ab-4e7f-a24a-442fee580ef5',\n",
       " '924dcc1c-19db-4a1d-ae6a-1f9d40404920',\n",
       " 'f6666399-1d0c-4563-83a0-a2be500d42bf',\n",
       " '93d8384d-0925-4a9d-a82f-79bf862316dc',\n",
       " 'e2e20a20-43e6-43fd-b876-3a1252f3a33b',\n",
       " 'eb0aa161-015a-439e-8a7a-90ef83636c6d']"
      ]
     },
     "execution_count": 26,
     "metadata": {},
     "output_type": "execute_result"
    }
   ],
   "source": [
    "most_similar(23028, pairwise_similarities, 10)"
   ]
  }
 ],
 "metadata": {
  "kernelspec": {
   "display_name": "Python 3",
   "language": "python",
   "name": "python3"
  },
  "language_info": {
   "codemirror_mode": {
    "name": "ipython",
    "version": 3
   },
   "file_extension": ".py",
   "mimetype": "text/x-python",
   "name": "python",
   "nbconvert_exporter": "python",
   "pygments_lexer": "ipython3",
   "version": "3.8.5"
  }
 },
 "nbformat": 4,
 "nbformat_minor": 5
}
