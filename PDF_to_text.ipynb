{
 "cells": [
  {
   "cell_type": "code",
   "execution_count": 1,
   "id": "6806421b",
   "metadata": {},
   "outputs": [],
   "source": [
    "# importing the necessary packages\n",
    "import numpy as np\n",
    "import pandas as pd\n",
    "import os\n",
    "import pickle\n",
    "import pdfplumber\n",
    "from tqdm import tqdm\n",
    "\n",
    "# setting the main file path to where all files are\n",
    "os.chdir(\"C:\\\\Users\\\\SJNic\\\\Documents\\\\University\\\\Master\\\\Thesis\\\\Code\")\n",
    "\n",
    "# setting the directory for where to get or save different files from\n",
    "documents_dir = \"PDFs/Documents/\"\n",
    "texts_dir = \"Texts/DocumentTexts/\"\n",
    "\n",
    "with open(\"ProcessedMeetings/nonDuplicateDocumentsInformation.txt\", \"rb\") as fp:   \n",
    "    nonDuplicateDocumentsInformation = pickle.load(fp)"
   ]
  },
  {
   "cell_type": "code",
   "execution_count": 2,
   "id": "4ffe8fb8",
   "metadata": {},
   "outputs": [
    {
     "data": {
      "text/plain": [
       "'00097ca8-b918-4dd3-99bf-9728d1fd5ee4'"
      ]
     },
     "execution_count": 2,
     "metadata": {},
     "output_type": "execute_result"
    }
   ],
   "source": [
    "# becasuse the method failed, this is a quick way to store the IDS of the already converted pdfs\n",
    "alreadyProcessed = os.listdir(texts_dir)\n",
    "alreadyProcessed = [s.replace(\".txt\", \"\") for s in alreadyProcessed]\n",
    "alreadyProcessed[0]"
   ]
  },
  {
   "cell_type": "code",
   "execution_count": 4,
   "id": "4e25f280",
   "metadata": {},
   "outputs": [],
   "source": [
    "# this method gets a key and looks for a pdf mathcing that key to then extract all the text\n",
    "# and save that text to a txt file\n",
    "def save_text(keys, processed):\n",
    "    keys = list(keys)\n",
    "    \n",
    "    # loop through all keys and add a progress bar\n",
    "    for i in tqdm(range(len(keys))):\n",
    "        key = keys[i]\n",
    "        \n",
    "        # if the key has already been processed then skip it\n",
    "        if key in processed:\n",
    "            continue\n",
    "        \n",
    "        file_loc = documents_dir + key + \".pdf\"\n",
    "        text = \"\"\n",
    "        \n",
    "        # try to open the pdf, otherwise let it be known which key failed\n",
    "        try:\n",
    "            # open the pdf file\n",
    "            with pdfplumber.open(file_loc) as pdf:\n",
    "                # loop through the pages and add the text of each page to the overall text of the pdf\n",
    "                for page in pdf.pages:\n",
    "                    try:\n",
    "                        text = text + page.extract_text()\n",
    "                    except:\n",
    "                        continue\n",
    "            # save the text of the pdf file\n",
    "            with open(texts_dir + key + \".txt\", \"wb\") as fp:\n",
    "                pickle.dump(text, fp)  \n",
    "        except:\n",
    "            print(f\"The following key failed: ({key})\")\n",
    "        #texts[key] = text\n",
    "    #return texts\n",
    "    \n"
   ]
  },
  {
   "cell_type": "code",
   "execution_count": 1,
   "id": "481364a7",
   "metadata": {},
   "outputs": [],
   "source": [
    "#save_text(nonDuplicateDocumentsInformation.keys(), alreadyProcessed)"
   ]
  }
 ],
 "metadata": {
  "kernelspec": {
   "display_name": "Python 3",
   "language": "python",
   "name": "python3"
  },
  "language_info": {
   "codemirror_mode": {
    "name": "ipython",
    "version": 3
   },
   "file_extension": ".py",
   "mimetype": "text/x-python",
   "name": "python",
   "nbconvert_exporter": "python",
   "pygments_lexer": "ipython3",
   "version": "3.8.5"
  }
 },
 "nbformat": 4,
 "nbformat_minor": 5
}
