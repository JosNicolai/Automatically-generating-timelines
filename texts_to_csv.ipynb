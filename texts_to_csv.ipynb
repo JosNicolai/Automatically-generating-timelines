{
 "cells": [
  {
   "cell_type": "code",
   "execution_count": 2,
   "id": "b61f0a12",
   "metadata": {},
   "outputs": [],
   "source": [
    "import numpy as np\n",
    "import pandas as pd\n",
    "import pickle\n",
    "import os\n",
    "\n",
    "\n",
    "\n",
    "# setting the main file path to where all files are\n",
    "os.chdir(\"C:\\\\Users\\\\SJNic\\\\Documents\\\\University\\\\Master\\\\Thesis\\\\Thesis Code\")\n",
    "\n",
    "texts_dir = \"Texts/UniqueDocumentTexts/\"\n",
    "\n",
    "# getting all nonDuplicate keys\n",
    "with open(\"NewProcessingData/DocumentsInformation.txt\", \"rb\") as fp:   \n",
    "    DocumentsInformation = pickle.load(fp)"
   ]
  },
  {
   "cell_type": "code",
   "execution_count": 3,
   "id": "3dd857d5",
   "metadata": {},
   "outputs": [
    {
     "name": "stdout",
     "output_type": "stream",
     "text": [
      "44613\n"
     ]
    },
    {
     "data": {
      "text/plain": [
       "0"
      ]
     },
     "execution_count": 3,
     "metadata": {},
     "output_type": "execute_result"
    }
   ],
   "source": [
    "# getting all keys\n",
    "keys = [file.replace(\".txt\", \"\") for file in os.listdir(texts_dir)]\n",
    "\n",
    "# retrieving all missing keys from the text documents\n",
    "missingKeys = []\n",
    "for key in keys:\n",
    "    if key not in list(DocumentsInformation.keys()):\n",
    "        missingKeys.append(key)\n",
    "\n",
    "# print number of missing keys\n",
    "print(len(keys))\n",
    "len(missingKeys)"
   ]
  },
  {
   "cell_type": "code",
   "execution_count": 8,
   "id": "56d462a3",
   "metadata": {},
   "outputs": [
    {
     "data": {
      "text/plain": [
       "'00068e84-19ef-4db9-8d2a-7e51ff69e18c'"
      ]
     },
     "execution_count": 8,
     "metadata": {},
     "output_type": "execute_result"
    }
   ],
   "source": [
    "keys = [file.replace(\".txt\", \"\") for file in os.listdir(texts_dir)]\n",
    "keys[2]"
   ]
  },
  {
   "cell_type": "code",
   "execution_count": 5,
   "id": "b7d0f544",
   "metadata": {},
   "outputs": [
    {
     "name": "stderr",
     "output_type": "stream",
     "text": [
      "  0%|          | 0/44613 [00:00<?, ?it/s]"
     ]
    },
    {
     "name": "stdout",
     "output_type": "stream",
     "text": [
      "<_io.BufferedReader name='Texts/UniqueDocumentTexts/0000a2fd-0427-4949-a3b4-e39f4635f421.txt'>\n"
     ]
    },
    {
     "name": "stderr",
     "output_type": "stream",
     "text": [
      "\n"
     ]
    },
    {
     "ename": "ValueError",
     "evalue": "binary mode doesn't take an errors argument",
     "output_type": "error",
     "traceback": [
      "\u001b[1;31m---------------------------------------------------------------------------\u001b[0m",
      "\u001b[1;31mTypeError\u001b[0m                                 Traceback (most recent call last)",
      "\u001b[1;32m<ipython-input-5-ca5229db6826>\u001b[0m in \u001b[0;36m<module>\u001b[1;34m\u001b[0m\n\u001b[0;32m     16\u001b[0m             \u001b[0mprint\u001b[0m\u001b[1;33m(\u001b[0m\u001b[0mf\u001b[0m\u001b[1;33m)\u001b[0m\u001b[1;33m\u001b[0m\u001b[1;33m\u001b[0m\u001b[0m\n\u001b[1;32m---> 17\u001b[1;33m             \u001b[0mtext\u001b[0m \u001b[1;33m=\u001b[0m \u001b[1;34m\"\"\u001b[0m\u001b[1;33m.\u001b[0m\u001b[0mjoin\u001b[0m\u001b[1;33m(\u001b[0m\u001b[0mf\u001b[0m\u001b[1;33m.\u001b[0m\u001b[0mreadlines\u001b[0m\u001b[1;33m(\u001b[0m\u001b[1;33m)\u001b[0m\u001b[1;33m)\u001b[0m\u001b[1;33m\u001b[0m\u001b[1;33m\u001b[0m\u001b[0m\n\u001b[0m\u001b[0;32m     18\u001b[0m     \u001b[1;31m# if that fails try with utf encoding\u001b[0m\u001b[1;33m\u001b[0m\u001b[1;33m\u001b[0m\u001b[1;33m\u001b[0m\u001b[0m\n",
      "\u001b[1;31mTypeError\u001b[0m: sequence item 0: expected str instance, bytes found",
      "\nDuring handling of the above exception, another exception occurred:\n",
      "\u001b[1;31mValueError\u001b[0m                                Traceback (most recent call last)",
      "\u001b[1;32m<ipython-input-5-ca5229db6826>\u001b[0m in \u001b[0;36m<module>\u001b[1;34m\u001b[0m\n\u001b[0;32m     20\u001b[0m         \u001b[1;32mtry\u001b[0m\u001b[1;33m:\u001b[0m\u001b[1;33m\u001b[0m\u001b[1;33m\u001b[0m\u001b[0m\n\u001b[1;32m---> 21\u001b[1;33m             \u001b[1;32mwith\u001b[0m \u001b[0mopen\u001b[0m\u001b[1;33m(\u001b[0m\u001b[0mtexts_dir\u001b[0m \u001b[1;33m+\u001b[0m \u001b[0mkey\u001b[0m \u001b[1;33m+\u001b[0m \u001b[1;34m'.txt'\u001b[0m\u001b[1;33m,\u001b[0m \u001b[1;34m'rb'\u001b[0m\u001b[1;33m,\u001b[0m \u001b[0mencoding\u001b[0m\u001b[1;33m=\u001b[0m\u001b[1;34m\"utf8\"\u001b[0m\u001b[1;33m)\u001b[0m \u001b[1;32mas\u001b[0m \u001b[0mf\u001b[0m\u001b[1;33m:\u001b[0m\u001b[1;33m\u001b[0m\u001b[1;33m\u001b[0m\u001b[0m\n\u001b[0m\u001b[0;32m     22\u001b[0m                 \u001b[0mtext\u001b[0m \u001b[1;33m=\u001b[0m \u001b[1;34m\"\"\u001b[0m\u001b[1;33m.\u001b[0m\u001b[0mjoin\u001b[0m\u001b[1;33m(\u001b[0m\u001b[0mf\u001b[0m\u001b[1;33m.\u001b[0m\u001b[0mreadlines\u001b[0m\u001b[1;33m(\u001b[0m\u001b[1;33m)\u001b[0m\u001b[1;33m)\u001b[0m\u001b[1;33m\u001b[0m\u001b[1;33m\u001b[0m\u001b[0m\n",
      "\u001b[1;31mValueError\u001b[0m: binary mode doesn't take an encoding argument",
      "\nDuring handling of the above exception, another exception occurred:\n",
      "\u001b[1;31mValueError\u001b[0m                                Traceback (most recent call last)",
      "\u001b[1;32m<ipython-input-5-ca5229db6826>\u001b[0m in \u001b[0;36m<module>\u001b[1;34m\u001b[0m\n\u001b[0;32m     26\u001b[0m             \u001b[1;32mtry\u001b[0m\u001b[1;33m:\u001b[0m\u001b[1;33m\u001b[0m\u001b[1;33m\u001b[0m\u001b[0m\n\u001b[1;32m---> 27\u001b[1;33m                 \u001b[1;32mwith\u001b[0m \u001b[0mopen\u001b[0m\u001b[1;33m(\u001b[0m\u001b[0mtexts_dir\u001b[0m \u001b[1;33m+\u001b[0m \u001b[0mkey\u001b[0m \u001b[1;33m+\u001b[0m \u001b[1;34m'.txt'\u001b[0m\u001b[1;33m,\u001b[0m \u001b[1;34m'rb'\u001b[0m\u001b[1;33m,\u001b[0m \u001b[0mencoding\u001b[0m\u001b[1;33m=\u001b[0m\u001b[1;34m\"CP1252\"\u001b[0m\u001b[1;33m)\u001b[0m \u001b[1;32mas\u001b[0m \u001b[0mf\u001b[0m\u001b[1;33m:\u001b[0m\u001b[1;33m\u001b[0m\u001b[1;33m\u001b[0m\u001b[0m\n\u001b[0m\u001b[0;32m     28\u001b[0m                     \u001b[0mtext\u001b[0m \u001b[1;33m=\u001b[0m \u001b[1;34m\"\"\u001b[0m\u001b[1;33m.\u001b[0m\u001b[0mjoin\u001b[0m\u001b[1;33m(\u001b[0m\u001b[0mf\u001b[0m\u001b[1;33m.\u001b[0m\u001b[0mreadlines\u001b[0m\u001b[1;33m(\u001b[0m\u001b[1;33m)\u001b[0m\u001b[1;33m)\u001b[0m\u001b[1;33m\u001b[0m\u001b[1;33m\u001b[0m\u001b[0m\n",
      "\u001b[1;31mValueError\u001b[0m: binary mode doesn't take an encoding argument",
      "\nDuring handling of the above exception, another exception occurred:\n",
      "\u001b[1;31mValueError\u001b[0m                                Traceback (most recent call last)",
      "\u001b[1;32m<ipython-input-5-ca5229db6826>\u001b[0m in \u001b[0;36m<module>\u001b[1;34m\u001b[0m\n\u001b[0;32m     30\u001b[0m             \u001b[1;31m# if even that fails skip the specific character\u001b[0m\u001b[1;33m\u001b[0m\u001b[1;33m\u001b[0m\u001b[1;33m\u001b[0m\u001b[0m\n\u001b[0;32m     31\u001b[0m             \u001b[1;32mexcept\u001b[0m\u001b[1;33m:\u001b[0m\u001b[1;33m\u001b[0m\u001b[1;33m\u001b[0m\u001b[0m\n\u001b[1;32m---> 32\u001b[1;33m                 \u001b[1;32mwith\u001b[0m \u001b[0mopen\u001b[0m\u001b[1;33m(\u001b[0m\u001b[0mtexts_dir\u001b[0m \u001b[1;33m+\u001b[0m \u001b[0mkey\u001b[0m \u001b[1;33m+\u001b[0m \u001b[1;34m'.txt'\u001b[0m\u001b[1;33m,\u001b[0m \u001b[1;34m'rb'\u001b[0m\u001b[1;33m,\u001b[0m \u001b[0merrors\u001b[0m \u001b[1;33m=\u001b[0m \u001b[1;34m\"ignore\"\u001b[0m\u001b[1;33m)\u001b[0m \u001b[1;32mas\u001b[0m \u001b[0mf\u001b[0m\u001b[1;33m:\u001b[0m\u001b[1;33m\u001b[0m\u001b[1;33m\u001b[0m\u001b[0m\n\u001b[0m\u001b[0;32m     33\u001b[0m                     \u001b[0mtext\u001b[0m \u001b[1;33m=\u001b[0m \u001b[1;34m\"\"\u001b[0m\u001b[1;33m.\u001b[0m\u001b[0mjoin\u001b[0m\u001b[1;33m(\u001b[0m\u001b[0mf\u001b[0m\u001b[1;33m.\u001b[0m\u001b[0mreadlines\u001b[0m\u001b[1;33m(\u001b[0m\u001b[1;33m)\u001b[0m\u001b[1;33m)\u001b[0m\u001b[1;33m\u001b[0m\u001b[1;33m\u001b[0m\u001b[0m\n\u001b[0;32m     34\u001b[0m \u001b[1;33m\u001b[0m\u001b[0m\n",
      "\u001b[1;31mValueError\u001b[0m: binary mode doesn't take an errors argument"
     ]
    }
   ],
   "source": [
    "from tqdm import tqdm\n",
    "# create a dataframe with the key of every file as an index\n",
    "texts = pd.DataFrame()\n",
    "texts[\"key\"] = keys\n",
    "texts.set_index(\"key\", inplace = True)\n",
    "texts[\"text\"] = \"\"\n",
    "\n",
    "i=0\n",
    "# loop through all the keys \n",
    "for key in tqdm(keys):\n",
    "    text = \"\"\n",
    "\n",
    "    # open file as usual\n",
    "    try:\n",
    "        with open(texts_dir + key + '.txt', 'r') as f:\n",
    "            text = \"\".join(f.readlines())\n",
    "    # if that fails try with utf encoding\n",
    "    except:\n",
    "        try:\n",
    "            with open(texts_dir + key + '.txt', 'r', encoding=\"utf8\") as f:\n",
    "                text = \"\".join(f.readlines())\n",
    "                    \n",
    "        # if even that fails try with cp1252 encoding\n",
    "        except:    \n",
    "            try:\n",
    "                with open(texts_dir + key + '.txt', 'r', encoding=\"CP1252\") as f:\n",
    "                    text = \"\".join(f.readlines())\n",
    "                    \n",
    "            # if even that fails skip the specific character        \n",
    "            except:\n",
    "                with open(texts_dir + key + '.txt', 'r', errors = \"ignore\") as f:\n",
    "                    text = \"\".join(f.readlines())\n",
    "\n",
    "    # remove any potential \"\\n\" or \\'\n",
    "    text = text.replace(\"\\n\", \" \").replace(\"\\'\", \"\")\n",
    "\n",
    "    # remove any unnecessary spaces\n",
    "    text = \" \".join(text.split())\n",
    "    break\n",
    "    texts.loc[key] = text\n",
    "    \n",
    "texts"
   ]
  },
  {
   "cell_type": "code",
   "execution_count": 10,
   "id": "011bb624",
   "metadata": {},
   "outputs": [],
   "source": [
    "# saving the texts\n",
    "texts.to_pickle(\"Texts/newDocument_Text.pkl\")"
   ]
  },
  {
   "cell_type": "code",
   "execution_count": 1,
   "id": "b9a47e22",
   "metadata": {},
   "outputs": [
    {
     "data": {
      "text/html": [
       "<div>\n",
       "<style scoped>\n",
       "    .dataframe tbody tr th:only-of-type {\n",
       "        vertical-align: middle;\n",
       "    }\n",
       "\n",
       "    .dataframe tbody tr th {\n",
       "        vertical-align: top;\n",
       "    }\n",
       "\n",
       "    .dataframe thead th {\n",
       "        text-align: right;\n",
       "    }\n",
       "</style>\n",
       "<table border=\"1\" class=\"dataframe\">\n",
       "  <thead>\n",
       "    <tr style=\"text-align: right;\">\n",
       "      <th></th>\n",
       "      <th>text</th>\n",
       "    </tr>\n",
       "    <tr>\n",
       "      <th>key</th>\n",
       "      <th></th>\n",
       "    </tr>\n",
       "  </thead>\n",
       "  <tbody>\n",
       "    <tr>\n",
       "      <th>00097ca8-b918-4dd3-99bf-9728d1fd5ee4</th>\n",
       "      <td>Bijlage 1 BI-zone 4 Merwedekanaalzone Zuid 2011</td>\n",
       "    </tr>\n",
       "    <tr>\n",
       "      <th>000c3f3c-4117-42e3-ba3e-45a5ccf028aa</th>\n",
       "      <td>Stand van zaken Moties, toezeggingen en brieve...</td>\n",
       "    </tr>\n",
       "    <tr>\n",
       "      <th>000f4c78-dccd-4b0f-b07d-3ba7973d66bd</th>\n",
       "      <td>NaN</td>\n",
       "    </tr>\n",
       "    <tr>\n",
       "      <th>000ff5f0-629c-4217-92c8-5ed2d3ac6d5b</th>\n",
       "      <td>03-04-19 14(21 ontwerpvoorstel aan de raad Opg...</td>\n",
       "    </tr>\n",
       "    <tr>\n",
       "      <th>00107e1b-7c6c-4147-b396-14c154fd5bb8</th>\n",
       "      <td>MPSO 2018 0HHUMDUHQ\u00033HUVSHFWLHI\u00036WHGHOLMNH\u00032QW...</td>\n",
       "    </tr>\n",
       "    <tr>\n",
       "      <th>...</th>\n",
       "      <td>...</td>\n",
       "    </tr>\n",
       "    <tr>\n",
       "      <th>ffeb6932-2100-4147-a671-10f931b06a96</th>\n",
       "      <td>Bijlage 1 - Factsheets - Herprogrammering maat...</td>\n",
       "    </tr>\n",
       "    <tr>\n",
       "      <th>fff60bef-9e93-47e3-9f11-8bd0941d084c</th>\n",
       "      <td>POS, september 2010 niveau van € 27,37 mio. De...</td>\n",
       "    </tr>\n",
       "    <tr>\n",
       "      <th>fff65d87-1368-42a0-85a0-028a36b66820</th>\n",
       "      <td>StadsOntwikkeling Bijlage bestemmingsplan Best...</td>\n",
       "    </tr>\n",
       "    <tr>\n",
       "      <th>fff9faf4-7f86-43af-a065-d803b85e1268</th>\n",
       "      <td>Verordening U-pas 2019 gemeente Utrecht De raa...</td>\n",
       "    </tr>\n",
       "    <tr>\n",
       "      <th>ffff3a5f-58f5-466f-9910-3f2866c00ee4</th>\n",
       "      <td>! ontwerp raadsbesluit Voorstel B en W d.d. Ja...</td>\n",
       "    </tr>\n",
       "  </tbody>\n",
       "</table>\n",
       "<p>23658 rows × 1 columns</p>\n",
       "</div>"
      ],
      "text/plain": [
       "                                                                                   text\n",
       "key                                                                                    \n",
       "00097ca8-b918-4dd3-99bf-9728d1fd5ee4    Bijlage 1 BI-zone 4 Merwedekanaalzone Zuid 2011\n",
       "000c3f3c-4117-42e3-ba3e-45a5ccf028aa  Stand van zaken Moties, toezeggingen en brieve...\n",
       "000f4c78-dccd-4b0f-b07d-3ba7973d66bd                                                NaN\n",
       "000ff5f0-629c-4217-92c8-5ed2d3ac6d5b  03-04-19 14(21 ontwerpvoorstel aan de raad Opg...\n",
       "00107e1b-7c6c-4147-b396-14c154fd5bb8  MPSO 2018 0HHUMDUHQ\u00033HUVSHFWLHI\u00036WHGHOLMNH\u00032QW...\n",
       "...                                                                                 ...\n",
       "ffeb6932-2100-4147-a671-10f931b06a96  Bijlage 1 - Factsheets - Herprogrammering maat...\n",
       "fff60bef-9e93-47e3-9f11-8bd0941d084c  POS, september 2010 niveau van € 27,37 mio. De...\n",
       "fff65d87-1368-42a0-85a0-028a36b66820  StadsOntwikkeling Bijlage bestemmingsplan Best...\n",
       "fff9faf4-7f86-43af-a065-d803b85e1268  Verordening U-pas 2019 gemeente Utrecht De raa...\n",
       "ffff3a5f-58f5-466f-9910-3f2866c00ee4  ! ontwerp raadsbesluit Voorstel B en W d.d. Ja...\n",
       "\n",
       "[23658 rows x 1 columns]"
      ]
     },
     "execution_count": 1,
     "metadata": {},
     "output_type": "execute_result"
    }
   ],
   "source": [
    "import numpy as np\n",
    "import pandas as pd\n",
    "texts = pd.read_pickle(\"Texts/newDocument_Text.pkl\", index_col = 0)\n",
    "texts"
   ]
  },
  {
   "cell_type": "code",
   "execution_count": null,
   "id": "6151bdb7",
   "metadata": {},
   "outputs": [],
   "source": []
  }
 ],
 "metadata": {
  "kernelspec": {
   "display_name": "Python 3",
   "language": "python",
   "name": "python3"
  },
  "language_info": {
   "codemirror_mode": {
    "name": "ipython",
    "version": 3
   },
   "file_extension": ".py",
   "mimetype": "text/x-python",
   "name": "python",
   "nbconvert_exporter": "python",
   "pygments_lexer": "ipython3",
   "version": "3.8.5"
  }
 },
 "nbformat": 4,
 "nbformat_minor": 5
}
